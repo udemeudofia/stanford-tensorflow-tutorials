{
  "nbformat": 4,
  "nbformat_minor": 0,
  "metadata": {
    "colab": {
      "name": "CS20_Assignment_1.ipynb",
      "version": "0.3.2",
      "provenance": [],
      "collapsed_sections": []
    },
    "kernelspec": {
      "name": "python3",
      "display_name": "Python 3"
    }
  },
  "cells": [
    {
      "cell_type": "markdown",
      "metadata": {
        "id": "view-in-github",
        "colab_type": "text"
      },
      "source": [
        "[View in Colaboratory](https://colab.research.google.com/github/udemeudofia/stanford-tensorflow-tutorials/blob/master/CS20_Assignment_1.ipynb)"
      ]
    },
    {
      "metadata": {
        "id": "zaUcncvAdIC6",
        "colab_type": "code",
        "colab": {
          "base_uri": "https://localhost:8080/",
          "height": 34
        },
        "outputId": "d2bfef85-9490-4d0d-bbbd-abca2937561b"
      },
      "cell_type": "code",
      "source": [
        "import tensorflow as tf\n",
        "import numpy as np\n",
        "\n",
        "sess = tf.InteractiveSession()\n",
        "x=3\n",
        "y=4\n",
        "a=tf.multiply(x,x)\n",
        "b=tf.multiply(a,y)\n",
        "c=tf.add(y,2)\n",
        "i=tf.add(b,c)\n",
        "\n",
        "print(sess.run(i))\n"
      ],
      "execution_count": 32,
      "outputs": [
        {
          "output_type": "stream",
          "text": [
            "42\n"
          ],
          "name": "stdout"
        }
      ]
    },
    {
      "metadata": {
        "id": "h6JOgdj1dPlP",
        "colab_type": "code",
        "colab": {
          "base_uri": "https://localhost:8080/",
          "height": 34
        },
        "outputId": "d95bc710-567f-4906-c08f-2e43b678d047"
      },
      "cell_type": "code",
      "source": [
        "#Use tf.cond() in writing conditional statements\n",
        "\n",
        "p = tf.random_uniform([])\n",
        "q = tf.random_uniform([])\n",
        "out = tf.cond(tf.greater(p,q), lambda:p+q, lambda:p-q)\n",
        "print(out.eval())"
      ],
      "execution_count": 2,
      "outputs": [
        {
          "output_type": "stream",
          "text": [
            "1.3321147\n"
          ],
          "name": "stdout"
        }
      ]
    },
    {
      "metadata": {
        "id": "QoQ4uZYsdffb",
        "colab_type": "code",
        "colab": {
          "base_uri": "https://localhost:8080/",
          "height": 71
        },
        "outputId": "38dbc27b-a3c7-44c5-aef9-dd44086645ca"
      },
      "cell_type": "code",
      "source": [
        "#tf.case() is used for conditional statements with more than two conditions\n",
        "\n",
        "f = tf.random_uniform([], -1,1, dtype=tf.float32)\n",
        "g = tf.random_uniform([], -1,1, dtype=tf.float32)\n",
        "out = tf.case({tf.less(f,g): lambda: tf.add(f,g), tf.greater(f,g): lambda: tf.subtract(f,g)}, default=lambda: tf.constant(0.0))\n",
        "print(sess.run(out))"
      ],
      "execution_count": 4,
      "outputs": [
        {
          "output_type": "stream",
          "text": [
            "WARNING:tensorflow:case: An unordered dictionary of predicate/fn pairs was provided, but exclusive=False. The order of conditional tests is deterministic but not guaranteed.\n",
            "0.13265204\n"
          ],
          "name": "stdout"
        }
      ]
    },
    {
      "metadata": {
        "id": "LW4jpCF1eUAi",
        "colab_type": "code",
        "colab": {
          "base_uri": "https://localhost:8080/",
          "height": 51
        },
        "outputId": "b26052a4-ce93-4483-d567-f2437fa2b278"
      },
      "cell_type": "code",
      "source": [
        "#Equality check with booleans using tf.equal()\n",
        "\n",
        "a = tf.constant([[0, -2, -1], [0, 1, 2]])\n",
        "b = tf.zeros_like(a)\n",
        "op = tf.equal(a,b)\n",
        "print(sess.run(op))"
      ],
      "execution_count": 5,
      "outputs": [
        {
          "output_type": "stream",
          "text": [
            "[[ True False False]\n",
            " [ True False False]]\n"
          ],
          "name": "stdout"
        }
      ]
    },
    {
      "metadata": {
        "id": "UE2cyGdBe5Fi",
        "colab_type": "code",
        "colab": {
          "base_uri": "https://localhost:8080/",
          "height": 170
        },
        "outputId": "9a88e14c-663c-4672-a845-2adec478e1dd"
      },
      "cell_type": "code",
      "source": [
        "#Filter and gather cetain values from a range using #tf.where() and tf.gather()\n",
        "\n",
        "k = tf.constant([29.05088806,  27.61298943,  31.19073486,  29.35532951, \n",
        "                 30.97266006,  26.67541885,  38.08450317,  20.74983215,\n",
        "                 34.94445419,  34.45999146,  29.06485367,  36.01657104,\n",
        "                 27.88236427,  20.56035233,  30.20379066,  29.51215172,\n",
        "                 33.71149445,  28.59134293,  36.05556488,  28.66994858])\n",
        "\n",
        "l = tf.where(k>30)\n",
        "opt = tf.gather(k,l)\n",
        "print(sess.run(opt))"
      ],
      "execution_count": 6,
      "outputs": [
        {
          "output_type": "stream",
          "text": [
            "[[31.190735]\n",
            " [30.97266 ]\n",
            " [38.084503]\n",
            " [34.944454]\n",
            " [34.45999 ]\n",
            " [36.01657 ]\n",
            " [30.20379 ]\n",
            " [33.711494]\n",
            " [36.055565]]\n"
          ],
          "name": "stdout"
        }
      ]
    },
    {
      "metadata": {
        "id": "EanGIb4Mk9Pe",
        "colab_type": "code",
        "colab": {
          "base_uri": "https://localhost:8080/",
          "height": 119
        },
        "outputId": "976d3294-7b37-492c-d6f7-13b650f14bb2"
      },
      "cell_type": "code",
      "source": [
        "#Set diagonals of a matrix\n",
        "\n",
        "start = 1\n",
        "limit = 37\n",
        "delta = 1\n",
        "q = tf.range(start, limit, delta)\n",
        "q = tf.reshape(q, [6,6])\n",
        "\n",
        "diagonal = np.array([1,2,3,4,5,6])\n",
        "#r = tf.diag(diagonal)\n",
        "\n",
        "t = tf.matrix_set_diag(q,diagonal)\n",
        "\n",
        "#print(sess.run(r))\n",
        "print(sess.run(t))"
      ],
      "execution_count": 33,
      "outputs": [
        {
          "output_type": "stream",
          "text": [
            "[[ 1  2  3  4  5  6]\n",
            " [ 7  2  9 10 11 12]\n",
            " [13 14  3 16 17 18]\n",
            " [19 20 21  4 23 24]\n",
            " [25 26 27 28  5 30]\n",
            " [31 32 33 34 35  6]]\n"
          ],
          "name": "stdout"
        }
      ]
    },
    {
      "metadata": {
        "id": "pBo-ZhC-ngD7",
        "colab_type": "code",
        "colab": {
          "base_uri": "https://localhost:8080/",
          "height": 119
        },
        "outputId": "d6160a96-0713-4fd8-ccb4-32cb965a08a9"
      },
      "cell_type": "code",
      "source": [
        "values = tf.range(1, 7)\n",
        "out = tf.diag(values)\n",
        "print(sess.run(out))"
      ],
      "execution_count": 8,
      "outputs": [
        {
          "output_type": "stream",
          "text": [
            "[[1 0 0 0 0 0]\n",
            " [0 2 0 0 0 0]\n",
            " [0 0 3 0 0 0]\n",
            " [0 0 0 4 0 0]\n",
            " [0 0 0 0 5 0]\n",
            " [0 0 0 0 0 6]]\n"
          ],
          "name": "stdout"
        }
      ]
    },
    {
      "metadata": {
        "id": "peu1H6lYwDhf",
        "colab_type": "code",
        "colab": {
          "base_uri": "https://localhost:8080/",
          "height": 34
        },
        "outputId": "0c63b85d-4e5c-444d-8b2a-bccfa3e23acc"
      },
      "cell_type": "code",
      "source": [
        "#Create a random 2-d 10x10 matrix and determine the determinant\n",
        "\n",
        "x = tf.random_uniform([10,10], minval=0, maxval=20, dtype=tf.float32)\n",
        "y = tf.matrix_determinant(x)\n",
        "print(sess.run(y))"
      ],
      "execution_count": 34,
      "outputs": [
        {
          "output_type": "stream",
          "text": [
            "53114150000.0\n"
          ],
          "name": "stdout"
        }
      ]
    },
    {
      "metadata": {
        "id": "0wVshNeiQPoC",
        "colab_type": "code",
        "colab": {
          "base_uri": "https://localhost:8080/",
          "height": 34
        },
        "outputId": "2798e5e3-ee47-4b15-8fb0-d35da4cf303a"
      },
      "cell_type": "code",
      "source": [
        "#Find the unique element from a tensor\n",
        "\n",
        "x = tf.constant([5, 2, 3, 5, 10, 6, 2, 3, 4, 2, 1, 1, 0, 9])\n",
        "y = tf.unique(x)\n",
        "print(sess.run(y))"
      ],
      "execution_count": 13,
      "outputs": [
        {
          "output_type": "stream",
          "text": [
            "Unique(y=array([ 5,  2,  3, 10,  6,  4,  1,  0,  9], dtype=int32), idx=array([0, 1, 2, 0, 3, 4, 1, 2, 5, 1, 6, 6, 7, 8], dtype=int32))\n"
          ],
          "name": "stdout"
        }
      ]
    },
    {
      "metadata": {
        "id": "_C6VqKN8QTBl",
        "colab_type": "code",
        "colab": {
          "base_uri": "https://localhost:8080/",
          "height": 34
        },
        "outputId": "8453f88a-6fd0-4a16-c341-db373c5ca8e2"
      },
      "cell_type": "code",
      "source": [
        "# 1h: Create two tensors x and y of shape 300 from any normal distribution,\n",
        "# as long as they are from the same distribution.\n",
        "# Use tf.cond() to return:\n",
        "# - The mean squared error of (x - y) if the average of all elements in (x - y)\n",
        "#   is negative, or\n",
        "# - The sum of absolute value of all elements in the tensor (x - y) otherwise.\n",
        "# Hint: see the Huber loss function in the lecture slides 3.\n",
        "\n",
        "\n",
        "x = tf.random_normal([300], 0, 50)\n",
        "y = tf.random_normal([300], 0, 50)\n",
        "#z = tf.add(x,y)\n",
        "\n",
        "#tf.square(x-y)\n",
        "#tf.reduce_sum(tf.abs(x-y))\n",
        "#tf.less(tf.reduce_mean(x-y),0)\n",
        "p = tf.cond(tf.less(tf.reduce_mean(x-y),0), lambda:tf.square(x-y), lambda:tf.reduce_sum(tf.abs(x-y)))\n",
        "print(sess.run(p))"
      ],
      "execution_count": 47,
      "outputs": [
        {
          "output_type": "stream",
          "text": [
            "17259.96\n"
          ],
          "name": "stdout"
        }
      ]
    },
    {
      "metadata": {
        "id": "HPLO9Ds_STdq",
        "colab_type": "code",
        "colab": {}
      },
      "cell_type": "code",
      "source": [
        ""
      ],
      "execution_count": 0,
      "outputs": []
    }
  ]
}
